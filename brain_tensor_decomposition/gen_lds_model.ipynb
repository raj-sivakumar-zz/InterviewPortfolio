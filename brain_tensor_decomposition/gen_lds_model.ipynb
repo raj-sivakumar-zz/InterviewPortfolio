{
 "cells": [
  {
   "cell_type": "markdown",
   "metadata": {},
   "source": [
    "# Part 2: Generate Features and Run Model"
   ]
  },
  {
   "cell_type": "code",
   "execution_count": 2,
   "metadata": {},
   "outputs": [],
   "source": [
    "# %matplotlib inline\n",
    "\n",
    "import numpy as np\n",
    "import pandas as pd\n",
    "import matplotlib as mpl\n",
    "import matplotlib.pyplot as plt\n",
    "from scipy.linalg import pinv, svd\n",
    "from scipy.sparse.linalg import svds\n",
    "from ipynb.fs.defs.preprocess_data import metadata, load_dataset, grid_to_slices\n",
    "from pathlib import Path\n",
    "import dicom\n",
    "import torch\n",
    "import torch.utils.data\n",
    "\n",
    "from itertools import filterfalse"
   ]
  },
  {
   "cell_type": "markdown",
   "metadata": {},
   "source": [
    "### Define function for generating features\n",
    "We define the function for generating the transition matrix and flattening into a row of features."
   ]
  },
  {
   "cell_type": "code",
   "execution_count": 3,
   "metadata": {},
   "outputs": [],
   "source": [
    "\n",
    "# data should be 4 dimensions: time, vertical slice, height, width\n",
    "# dtype\n",
    "#  inputs: torch.FloatTensor\n",
    "#  labels: torch.LongTensor\n",
    "# shape\n",
    "#  inputs: torch.Size([1, 65, 1, 100, 116, 116]) --> 1, time slice, 1, vertical slices, height,width\n",
    "#  labels: torch.Size([1])\n",
    "# q is number of singular values we're concerned with\n",
    "# This will return a concatenated vector of the state transition matrix (q*q) for each vertical slice\n",
    "# So length of return vector is q * q * num_vertical_slices\n",
    "def calculate_transition_models(data, q = 10):\n",
    "    frames = data.shape[1]\n",
    "    vertical_slices = data.shape[3]\n",
    "    height = data.shape[4]\n",
    "    width = data.shape[5]\n",
    "\n",
    "    state_transitions = np.zeros(q * q * vertical_slices)\n",
    "    for slice_num in range(vertical_slices):\n",
    "        slice_data = data[0,:,0,slice_num,:,:]\n",
    "        Y = np.zeros((height * width, frames))\n",
    "        for i in range(frames):\n",
    "            frame = slice_data[i].numpy().reshape(height * width)\n",
    "            Y[:,i] = frame\n",
    "\n",
    "        U, E, V_t = svds(Y, k=q)\n",
    "        V = V_t.T\n",
    "        C = U[:,:q]\n",
    "        Ehat = np.diag(E[:q])\n",
    "        Vhat = V[:,:q]\n",
    "        X = Ehat.dot(Vhat.T)\n",
    "\n",
    "        x1 = np.zeros((q, frames - 1))\n",
    "        x2 = np.zeros((q, frames - 1))\n",
    "        for i in range(x1.shape[1]):\n",
    "            for j in range(q):\n",
    "                x1[j,i] = X[j,i]\n",
    "                x2[j,i] = X[j,i + 1]\n",
    "\n",
    "        x1_pinv = pinv(x1)\n",
    "        A = x2.dot(x1_pinv)\n",
    "        state_transition = A.reshape(q*q)\n",
    "\n",
    "        start_index = q * q * slice_num\n",
    "        end_index =  q * q * (slice_num+1)\n",
    "        state_transitions[start_index:end_index] = state_transition\n",
    "    return state_transitions\n"
   ]
  },
  {
   "cell_type": "markdown",
   "metadata": {},
   "source": [
    "### Generate Features\n",
    "Iterate through dataset, generate features and save to csv file. First for Linear Dynamical Systems Features and second for Tensor Decomposition."
   ]
  },
  {
   "cell_type": "code",
   "execution_count": 34,
   "metadata": {
    "scrolled": true
   },
   "outputs": [
    {
     "name": "stdout",
     "output_type": "stream",
     "text": [
      "torch.FloatTensor torch.Size([1, 65, 1, 100, 116, 116])\n"
     ]
    }
   ],
   "source": [
    "\n",
    "train_DF = pd.DataFrame()\n",
    "count = 0\n",
    "\n",
    "for i, (x, y) in enumerate(load_dataset('./data', shuffle=False)):\n",
    "    if isinstance(x, torch.FloatTensor) and x.shape[1]==65:\n",
    "        print(x.type(), x.size())\n",
    "        transition_features = calculate_transition_models(x)\n",
    "        target = y.numpy()\n",
    "        line = np.append(transition_features, target)\n",
    "        train_DF = train_DF.append(pd.Series(line), ignore_index=True)\n",
    "        train_DF.to_csv(path_or_buf=\"./data/output/LDS_features.csv\", index_label=False, header=False)\n",
    "    else:\n",
    "        print(\"not!\", x.type(), x.size())\n",
    "        pass\n"
   ]
  },
  {
   "cell_type": "code",
   "execution_count": 35,
   "metadata": {
    "scrolled": true
   },
   "outputs": [
    {
     "name": "stdout",
     "output_type": "stream",
     "text": [
      "False\n"
     ]
    },
    {
     "name": "stderr",
     "output_type": "stream",
     "text": [
      "Using pytorch backend.\n"
     ]
    },
    {
     "name": "stdout",
     "output_type": "stream",
     "text": [
      "{'dtype': torch.float32, 'device': device(type='cpu'), 'requires_grad': False}\n"
     ]
    }
   ],
   "source": [
    "import tensorly as tl\n",
    "from tensorly.decomposition import parafac, tucker, partial_tucker\n",
    "import tensorflow as tf\n",
    "\n",
    "tl.set_backend('pytorch')\n",
    "print(torch.cuda.is_available())\n",
    "data_dir = './data/'\n",
    "\n",
    "train_tensor_DF = pd.DataFrame()\n",
    "count = 0\n",
    "\n",
    "\n",
    "for i, (x, y) in enumerate(load_dataset(data_dir, shuffle=False)):\n",
    "    if isinstance(x, torch.FloatTensor) and x.shape[1]==65:\n",
    "        \n",
    "        x=x.view(1,65,100,116,116)\n",
    "        print(tl.context(x))\n",
    "        core, factors = tucker(x, ranks=[1,10,10,10,10], init='random', tol=10e-5, verbose=False)\n",
    "        transition_features = core.numpy().flatten()\n",
    "        target = y.numpy()\n",
    "        line = np.append(transition_features, target)\n",
    "        train_tensor_DF = train_tensor_DF.append(pd.Series(line), ignore_index=True)\n",
    "    else:\n",
    "        print(\"not!\", x.type(), x.size())\n",
    "        \n",
    "        continue\n",
    "train_tensor_DF.to_csv(path_or_buf=\"./data/output/TD_features.csv\", index_label=False, header=False)\n",
    "\n"
   ]
  },
  {
   "cell_type": "markdown",
   "metadata": {},
   "source": [
    "### Fit ensemble models\n",
    "We import our generated features and perform dimensionality reduction. We also initialize several classifiers to fit to the 'multiple' data sets we've generated. We use these to then produce predictions to measure accuracy and f-measure."
   ]
  },
  {
   "cell_type": "code",
   "execution_count": 36,
   "metadata": {},
   "outputs": [
    {
     "data": {
      "text/plain": [
       "RandomForestClassifier(bootstrap=False, class_weight=None,\n",
       "            criterion='entropy', max_depth=None, max_features=0.1,\n",
       "            max_leaf_nodes=None, min_impurity_decrease=0.0,\n",
       "            min_impurity_split=None, min_samples_leaf=1,\n",
       "            min_samples_split=9, min_weight_fraction_leaf=0.0,\n",
       "            n_estimators=100, n_jobs=None, oob_score=False,\n",
       "            random_state=None, verbose=0, warm_start=False)"
      ]
     },
     "execution_count": 36,
     "metadata": {},
     "output_type": "execute_result"
    }
   ],
   "source": [
    "from sklearn.ensemble import RandomForestClassifier\n",
    "from sklearn.decomposition import KernelPCA\n",
    "from sklearn.model_selection import train_test_split\n",
    "from imblearn.over_sampling import RandomOverSampler\n",
    "\n",
    "df_array = np.genfromtxt(\"./TD_features.csv\", dtype=float, delimiter=',')\n",
    "kpca = KernelPCA(n_components=10, kernel='rbf')\n",
    "X_orig = df_array[:,1:-1]\n",
    "y_orig = df_array[:,-1]\n",
    "\n",
    "ros = RandomOverSampler(random_state=42)\n",
    "X, y = ros.fit_resample(X_orig, y_orig)\n",
    "\n",
    "\n",
    "X_kpca = kpca.fit_transform(X)\n",
    "\n",
    "\n",
    "clf = RandomForestClassifier(bootstrap=False, criterion=\"entropy\", max_features=0.1, min_samples_leaf=1, min_samples_split=9, n_estimators=100)\n",
    "clf_kpca = RandomForestClassifier(bootstrap=False, criterion=\"entropy\", max_features=0.1, min_samples_leaf=1, min_samples_split=9, n_estimators=100)\n",
    "\n",
    "x_train, x_test, y_train, y_test = train_test_split(X,y, test_size=0.2, random_state=42) \n",
    "x_kpca_train, x_kpca_test, y_kpca_train, y_kpca_test = train_test_split(X_kpca,y, test_size=0.2, random_state=42) \n",
    "\n",
    "clf.fit(x_train, y_train)\n",
    "clf_kpca.fit(x_kpca_train, y_kpca_train)"
   ]
  },
  {
   "cell_type": "code",
   "execution_count": 37,
   "metadata": {},
   "outputs": [],
   "source": [
    "y_pred = clf.predict(x_test)\n",
    "y_kpca_pred = clf_kpca.predict(x_kpca_test)\n",
    "\n",
    "kpca_var = kpca.lambdas_\n"
   ]
  },
  {
   "cell_type": "code",
   "execution_count": 38,
   "metadata": {},
   "outputs": [
    {
     "name": "stdout",
     "output_type": "stream",
     "text": [
      "PCA v. LDA\tf_measure\t\taccuracy\n",
      "- \t\t0.941\t\t\t0.938\n",
      "kPCA  \t\t0.941\t\t\t0.938\n"
     ]
    }
   ],
   "source": [
    "from sklearn.metrics import f1_score, accuracy_score\n",
    "f_measure = f1_score(y_test, y_pred)\n",
    "f_measure_kpca = f1_score(y_kpca_test, y_kpca_pred)\n",
    "\n",
    "\n",
    "acc = accuracy_score(y_test, y_pred)\n",
    "acc_kpca = accuracy_score(y_kpca_test, y_kpca_pred)\n",
    "\n",
    "print(\"PCA v. LDA\\tf_measure\\t\\taccuracy\")\n",
    "print(\"- \\t\\t\"+str(round(f_measure, 3))+\"\\t\\t\\t\"+str(round(acc,3)))\n",
    "print(\"kPCA  \\t\\t\"+str(round(f_measure_kpca, 3))+\"\\t\\t\\t\"+str(round(acc_kpca,3)))\n"
   ]
  },
  {
   "cell_type": "markdown",
   "metadata": {},
   "source": [
    "### Visualizing results\n",
    "\n",
    "We would also like to visualize the results we've obtained. Particularly we want to see how the variance is distributed differently as well as the general feature distribution between the three dimensionality reduction techniques that were implemented."
   ]
  },
  {
   "cell_type": "code",
   "execution_count": 32,
   "metadata": {
    "scrolled": true
   },
   "outputs": [
    {
     "data": {
      "image/png": "[encoded data removed]",
      "text/plain": [
       "<matplotlib.figure.Figure at 0x1a154bd240>"
      ]
     },
     "metadata": {},
     "output_type": "display_data"
    }
   ],
   "source": [
    "from sklearn.preprocessing import MinMaxScaler\n",
    "\n",
    "mm = MinMaxScaler()\n",
    "kpca_var = kpca_var.reshape(-1,1)\n",
    "kpca_var_ratio = mm.fit_transform(kpca_var)\n",
    "\n",
    "plt.figure()\n",
    "plt.plot(range(1,11),kpca_var_ratio, label=\"Kernel PCA\", )\n",
    "plt.axis([0, 11, -0.015, 1.015])\n",
    "plt.xticks(np.arange(1, 11, 1.0))\n",
    "plt.ylabel(\"Explained Variance\")\n",
    "plt.xlabel(\"Component Rank\")\n",
    "plt.legend()\n",
    "plt.savefig(\"explained_variance.png\", dpi=500, bboxinches=2)\n",
    "plt.show()"
   ]
  },
  {
   "cell_type": "code",
   "execution_count": null,
   "metadata": {},
   "outputs": [],
   "source": []
  }
 ],
 "metadata": {
  "kernelspec": {
   "display_name": "Python [default]",
   "language": "python",
   "name": "python3"
  },
  "language_info": {
   "codemirror_mode": {
    "name": "ipython",
    "version": 3
   },
   "file_extension": ".py",
   "mimetype": "text/x-python",
   "name": "python",
   "nbconvert_exporter": "python",
   "pygments_lexer": "ipython3",
   "version": "3.6.4"
  }
 },
 "nbformat": 4,
 "nbformat_minor": 2
}
